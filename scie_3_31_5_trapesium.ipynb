{
  "nbformat": 4,
  "nbformat_minor": 0,
  "metadata": {
    "colab": {
      "provenance": []
    },
    "kernelspec": {
      "name": "python3",
      "display_name": "Python 3"
    },
    "language_info": {
      "name": "python"
    }
  },
  "cells": [
    {
      "cell_type": "code",
      "execution_count": null,
      "metadata": {
        "colab": {
          "base_uri": "https://localhost:8080/"
        },
        "id": "c0ARUe3TBjZb",
        "outputId": "f3e55e9b-a163-4454-aa5e-5dcc7fc8300c"
      },
      "outputs": [
        {
          "output_type": "stream",
          "name": "stdout",
          "text": [
            "1.9835235375094546\n",
            "0.01647646249054535\n"
          ]
        }
      ],
      "source": [
        "import numpy as np\n",
        "\n",
        "a = 0\n",
        "b = np.pi\n",
        "n = 11\n",
        "h = (b - a) / (n - 1)\n",
        "x = np.linspace(a, b, n)\n",
        "f = np.sin(x)\n",
        "\n",
        "I_trap = (h/2) * (f[0] + \\\n",
        "          2 * sum(f[1:n-1]) + f[n-1])\n",
        "err_trap = 2 - I_trap\n",
        "\n",
        "print(I_trap)\n",
        "print(err_trap)"
      ]
    },
    {
      "cell_type": "code",
      "source": [
        "import numpy as np\n",
        "from scipy.integrate import trapz\n",
        "\n",
        "a = 0\n",
        "b = np.pi\n",
        "n = 11\n",
        "h = (b - a) / (n - 1)\n",
        "x = np.linspace(a, b, n)\n",
        "f = np.sin(x)\n",
        "\n",
        "I_trapz = trapz(f,x)\n",
        "I_trapz = (h/2) * (f[0] + 2 * sum (f[1:n - 1]) + f[n-1])\n",
        "\n",
        "print(I_trapz)\n",
        "print(I_trap)"
      ],
      "metadata": {
        "id": "g1uH8gjDCK0T",
        "outputId": "c09ad6cc-f09a-4827-b6a3-17670a24160d",
        "colab": {
          "base_uri": "https://localhost:8080/"
        }
      },
      "execution_count": null,
      "outputs": [
        {
          "output_type": "stream",
          "name": "stdout",
          "text": [
            "1.9835235375094546\n",
            "1.9835235375094546\n"
          ]
        }
      ]
    }
  ]
}